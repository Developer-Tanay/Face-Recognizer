{
 "cells": [
  {
   "cell_type": "code",
   "execution_count": 1,
   "id": "d4bc34c8",
   "metadata": {},
   "outputs": [],
   "source": [
    "import cv2"
   ]
  },
  {
   "cell_type": "code",
   "execution_count": null,
   "id": "0a367c9b",
   "metadata": {},
   "outputs": [
    {
     "ename": "",
     "evalue": "",
     "output_type": "error",
     "traceback": [
      "\u001b[1;31mThe Kernel crashed while executing code in the current cell or a previous cell. \n",
      "\u001b[1;31mPlease review the code in the cell(s) to identify a possible cause of the failure. \n",
      "\u001b[1;31mClick <a href='https://aka.ms/vscodeJupyterKernelCrash'>here</a> for more info. \n",
      "\u001b[1;31mView Jupyter <a href='command:jupyter.viewOutput'>log</a> for further details."
     ]
    }
   ],
   "source": [
    "face_cap = cv2.CascadeClassifier(\n",
    "    \"venv\\Lib\\site-packages\\cv2\\data\\haarcascade_frontalface_default.xml\"\n",
    ")\n",
    "\n",
    "video_cap = cv2.VideoCapture(0) # Open the default camera\n",
    "\n",
    "while True: # Capture frames from the camera\n",
    "\n",
    "    ret, video_data = video_cap.read() # Read a frame from the camera\n",
    "    col = cv2.cvtColor(video_data, cv2.COLOR_BGR2GRAY)  # convert the frame to grayscale\n",
    "\n",
    "    # Detect faces in the frame\n",
    "    faces = face_cap.detectMultiScale(\n",
    "        col, \n",
    "        scaleFactor=1.1, \n",
    "        minNeighbors=5,\n",
    "        minSize=(30, 30),\n",
    "        flags=cv2.CASCADE_SCALE_IMAGE\n",
    "    )  \n",
    "\n",
    "    # Draw rectangles around detected faces\n",
    "    for (x, y, w, h) in faces:  \n",
    "        cv2.rectangle(video_data, (x, y), (x + w, y + h), (0, 255, 0), 2)\n",
    "\n",
    "    cv2.imshow(\"video_live\", video_data)  # Display the frame in a window\n",
    "\n",
    "    if cv2.waitKey(10) == ord(\"q\"):  # Exit if 'q' is pressed\n",
    "        break\n",
    "\n",
    "video_cap.release() # Release the camera"
   ]
  },
  {
   "cell_type": "code",
   "execution_count": null,
   "id": "598f804a",
   "metadata": {},
   "outputs": [],
   "source": [
    "# video_cap = cv2.VideoCapture(0)  # Open the default camera\n",
    "# while True:  # Capture frames from the camera\n",
    "#     ret, video_data = video_cap.read()  # Read a frame from the camera\n",
    "#     cv2.imshow(\"video_live\", video_data)  # Display the frame in a window\n",
    "#     if cv2.waitKey(10) == ord(\"q\"):  # Exit if 'q' is pressed\n",
    "#         break\n",
    "# video_cap.release()  # Release the camera"
   ]
  }
 ],
 "metadata": {
  "kernelspec": {
   "display_name": "Python (exp_learning)",
   "language": "python",
   "name": "exp_learning"
  },
  "language_info": {
   "codemirror_mode": {
    "name": "ipython",
    "version": 3
   },
   "file_extension": ".py",
   "mimetype": "text/x-python",
   "name": "python",
   "nbconvert_exporter": "python",
   "pygments_lexer": "ipython3",
   "version": "3.10.10"
  }
 },
 "nbformat": 4,
 "nbformat_minor": 5
}
